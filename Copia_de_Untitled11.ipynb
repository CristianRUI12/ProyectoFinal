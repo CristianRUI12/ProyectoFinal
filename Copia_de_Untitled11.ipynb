{
  "nbformat": 4,
  "nbformat_minor": 0,
  "metadata": {
    "colab": {
      "provenance": [],
      "authorship_tag": "ABX9TyORGHLweXZtCtEolZouuBUb",
      "include_colab_link": true
    },
    "kernelspec": {
      "name": "python3",
      "display_name": "Python 3"
    },
    "language_info": {
      "name": "python"
    }
  },
  "cells": [
    {
      "cell_type": "markdown",
      "metadata": {
        "id": "view-in-github",
        "colab_type": "text"
      },
      "source": [
        "<a href=\"https://colab.research.google.com/github/CristianRUI12/ProyectoFinal/blob/main/Copia_de_Untitled11.ipynb\" target=\"_parent\"><img src=\"https://colab.research.google.com/assets/colab-badge.svg\" alt=\"Open In Colab\"/></a>"
      ]
    },
    {
      "cell_type": "code",
      "source": [
        "class Alumno:\n",
        "    nombre = \"Cristian\"\n",
        "    edad = 18\n",
        "    peso = 66.5\n",
        "    promedio = 9\n"
      ],
      "metadata": {
        "id": "6OaRP6VmI1XS"
      },
      "execution_count": 34,
      "outputs": []
    },
    {
      "cell_type": "code",
      "source": [
        "def inscripcion(self):\n",
        "        print(f\"{self.nombre} ha sido inscrito correctamente.\")\n",
        "\n",
        "def asesorias(self):\n",
        "        print(f\"{self.nombre} puede asistir a asesorías cuando lo necesite.\")\n"
      ],
      "metadata": {
        "id": "if4AG-wuI3kg"
      },
      "execution_count": 26,
      "outputs": []
    },
    {
      "cell_type": "code",
      "source": [
        "alumno1 = Alumno()\n",
        "alumno1.nombre = \"Cristian\"\n",
        "alumno1.edad = 18\n",
        "alumno1.peso = 65.5\n",
        "alumno1.promedio = 5\n"
      ],
      "metadata": {
        "id": "rtluU9aZI6Sh"
      },
      "execution_count": 29,
      "outputs": []
    },
    {
      "cell_type": "code",
      "source": [
        "alumno1.inscripcion()\n",
        "alumno1.asesorias()"
      ],
      "metadata": {
        "colab": {
          "base_uri": "https://localhost:8080/"
        },
        "id": "JnFPtgsCJHYw",
        "outputId": "1fe7773e-2e42-49a0-f1b4-3206559627ce"
      },
      "execution_count": 32,
      "outputs": [
        {
          "output_type": "stream",
          "name": "stdout",
          "text": [
            "Cristian ha sido inscrito correctamente.\n",
            "Cristian puede asistir a asesorías cuando lo necesite.\n"
          ]
        }
      ]
    },
    {
      "cell_type": "code",
      "source": [
        "print(\"Nombre:\", alumno1.nombre)\n",
        "print(\"Edad:\", alumno1.edad)\n",
        "print(\"Peso:\", alumno1.peso)\n",
        "print(\"Promedio:\", alumno1.promedio)\n"
      ],
      "metadata": {
        "colab": {
          "base_uri": "https://localhost:8080/"
        },
        "id": "4teXm85yI8Rp",
        "outputId": "1f0607a8-a020-4261-cd73-8187b715547a"
      },
      "execution_count": 33,
      "outputs": [
        {
          "output_type": "stream",
          "name": "stdout",
          "text": [
            "Nombre: Cristian\n",
            "Edad: 18\n",
            "Peso: 65.5\n",
            "Promedio: 5\n"
          ]
        }
      ]
    }
  ]
}